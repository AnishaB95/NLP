{
  "nbformat": 4,
  "nbformat_minor": 0,
  "metadata": {
    "colab": {
      "provenance": []
    },
    "kernelspec": {
      "name": "python3",
      "display_name": "Python 3"
    },
    "language_info": {
      "name": "python"
    },
    "widgets": {
      "application/vnd.jupyter.widget-state+json": {
        "8797d388096e404b834c86714c300120": {
          "model_module": "@jupyter-widgets/controls",
          "model_name": "HBoxModel",
          "model_module_version": "1.5.0",
          "state": {
            "_dom_classes": [],
            "_model_module": "@jupyter-widgets/controls",
            "_model_module_version": "1.5.0",
            "_model_name": "HBoxModel",
            "_view_count": null,
            "_view_module": "@jupyter-widgets/controls",
            "_view_module_version": "1.5.0",
            "_view_name": "HBoxView",
            "box_style": "",
            "children": [
              "IPY_MODEL_f5241053151745869f00ef1473d4e1ea",
              "IPY_MODEL_f98d18fbc844479e88071d2483b9e200",
              "IPY_MODEL_c106c236b9384c16940f0ea6132a2ec5"
            ],
            "layout": "IPY_MODEL_e8893f6156784b5690d2dc9e5b20e75f"
          }
        },
        "f5241053151745869f00ef1473d4e1ea": {
          "model_module": "@jupyter-widgets/controls",
          "model_name": "HTMLModel",
          "model_module_version": "1.5.0",
          "state": {
            "_dom_classes": [],
            "_model_module": "@jupyter-widgets/controls",
            "_model_module_version": "1.5.0",
            "_model_name": "HTMLModel",
            "_view_count": null,
            "_view_module": "@jupyter-widgets/controls",
            "_view_module_version": "1.5.0",
            "_view_name": "HTMLView",
            "description": "",
            "description_tooltip": null,
            "layout": "IPY_MODEL_cdadc975ef1845b6b854a429f1151591",
            "placeholder": "​",
            "style": "IPY_MODEL_02aa0af2f584470aae177f78a04a9846",
            "value": "Downloading (…)lve/main/config.json: 100%"
          }
        },
        "f98d18fbc844479e88071d2483b9e200": {
          "model_module": "@jupyter-widgets/controls",
          "model_name": "FloatProgressModel",
          "model_module_version": "1.5.0",
          "state": {
            "_dom_classes": [],
            "_model_module": "@jupyter-widgets/controls",
            "_model_module_version": "1.5.0",
            "_model_name": "FloatProgressModel",
            "_view_count": null,
            "_view_module": "@jupyter-widgets/controls",
            "_view_module_version": "1.5.0",
            "_view_name": "ProgressView",
            "bar_style": "success",
            "description": "",
            "description_tooltip": null,
            "layout": "IPY_MODEL_063b65393af04996bbbae5209c113411",
            "max": 1347,
            "min": 0,
            "orientation": "horizontal",
            "style": "IPY_MODEL_6493bc30c625446cade11013f3d19a76",
            "value": 1347
          }
        },
        "c106c236b9384c16940f0ea6132a2ec5": {
          "model_module": "@jupyter-widgets/controls",
          "model_name": "HTMLModel",
          "model_module_version": "1.5.0",
          "state": {
            "_dom_classes": [],
            "_model_module": "@jupyter-widgets/controls",
            "_model_module_version": "1.5.0",
            "_model_name": "HTMLModel",
            "_view_count": null,
            "_view_module": "@jupyter-widgets/controls",
            "_view_module_version": "1.5.0",
            "_view_name": "HTMLView",
            "description": "",
            "description_tooltip": null,
            "layout": "IPY_MODEL_838296984d694330a724f4fbe80f7bda",
            "placeholder": "​",
            "style": "IPY_MODEL_0652a2b177fd4007b9f674d00c648b1c",
            "value": " 1.35k/1.35k [00:00&lt;00:00, 44.6kB/s]"
          }
        },
        "e8893f6156784b5690d2dc9e5b20e75f": {
          "model_module": "@jupyter-widgets/base",
          "model_name": "LayoutModel",
          "model_module_version": "1.2.0",
          "state": {
            "_model_module": "@jupyter-widgets/base",
            "_model_module_version": "1.2.0",
            "_model_name": "LayoutModel",
            "_view_count": null,
            "_view_module": "@jupyter-widgets/base",
            "_view_module_version": "1.2.0",
            "_view_name": "LayoutView",
            "align_content": null,
            "align_items": null,
            "align_self": null,
            "border": null,
            "bottom": null,
            "display": null,
            "flex": null,
            "flex_flow": null,
            "grid_area": null,
            "grid_auto_columns": null,
            "grid_auto_flow": null,
            "grid_auto_rows": null,
            "grid_column": null,
            "grid_gap": null,
            "grid_row": null,
            "grid_template_areas": null,
            "grid_template_columns": null,
            "grid_template_rows": null,
            "height": null,
            "justify_content": null,
            "justify_items": null,
            "left": null,
            "margin": null,
            "max_height": null,
            "max_width": null,
            "min_height": null,
            "min_width": null,
            "object_fit": null,
            "object_position": null,
            "order": null,
            "overflow": null,
            "overflow_x": null,
            "overflow_y": null,
            "padding": null,
            "right": null,
            "top": null,
            "visibility": null,
            "width": null
          }
        },
        "cdadc975ef1845b6b854a429f1151591": {
          "model_module": "@jupyter-widgets/base",
          "model_name": "LayoutModel",
          "model_module_version": "1.2.0",
          "state": {
            "_model_module": "@jupyter-widgets/base",
            "_model_module_version": "1.2.0",
            "_model_name": "LayoutModel",
            "_view_count": null,
            "_view_module": "@jupyter-widgets/base",
            "_view_module_version": "1.2.0",
            "_view_name": "LayoutView",
            "align_content": null,
            "align_items": null,
            "align_self": null,
            "border": null,
            "bottom": null,
            "display": null,
            "flex": null,
            "flex_flow": null,
            "grid_area": null,
            "grid_auto_columns": null,
            "grid_auto_flow": null,
            "grid_auto_rows": null,
            "grid_column": null,
            "grid_gap": null,
            "grid_row": null,
            "grid_template_areas": null,
            "grid_template_columns": null,
            "grid_template_rows": null,
            "height": null,
            "justify_content": null,
            "justify_items": null,
            "left": null,
            "margin": null,
            "max_height": null,
            "max_width": null,
            "min_height": null,
            "min_width": null,
            "object_fit": null,
            "object_position": null,
            "order": null,
            "overflow": null,
            "overflow_x": null,
            "overflow_y": null,
            "padding": null,
            "right": null,
            "top": null,
            "visibility": null,
            "width": null
          }
        },
        "02aa0af2f584470aae177f78a04a9846": {
          "model_module": "@jupyter-widgets/controls",
          "model_name": "DescriptionStyleModel",
          "model_module_version": "1.5.0",
          "state": {
            "_model_module": "@jupyter-widgets/controls",
            "_model_module_version": "1.5.0",
            "_model_name": "DescriptionStyleModel",
            "_view_count": null,
            "_view_module": "@jupyter-widgets/base",
            "_view_module_version": "1.2.0",
            "_view_name": "StyleView",
            "description_width": ""
          }
        },
        "063b65393af04996bbbae5209c113411": {
          "model_module": "@jupyter-widgets/base",
          "model_name": "LayoutModel",
          "model_module_version": "1.2.0",
          "state": {
            "_model_module": "@jupyter-widgets/base",
            "_model_module_version": "1.2.0",
            "_model_name": "LayoutModel",
            "_view_count": null,
            "_view_module": "@jupyter-widgets/base",
            "_view_module_version": "1.2.0",
            "_view_name": "LayoutView",
            "align_content": null,
            "align_items": null,
            "align_self": null,
            "border": null,
            "bottom": null,
            "display": null,
            "flex": null,
            "flex_flow": null,
            "grid_area": null,
            "grid_auto_columns": null,
            "grid_auto_flow": null,
            "grid_auto_rows": null,
            "grid_column": null,
            "grid_gap": null,
            "grid_row": null,
            "grid_template_areas": null,
            "grid_template_columns": null,
            "grid_template_rows": null,
            "height": null,
            "justify_content": null,
            "justify_items": null,
            "left": null,
            "margin": null,
            "max_height": null,
            "max_width": null,
            "min_height": null,
            "min_width": null,
            "object_fit": null,
            "object_position": null,
            "order": null,
            "overflow": null,
            "overflow_x": null,
            "overflow_y": null,
            "padding": null,
            "right": null,
            "top": null,
            "visibility": null,
            "width": null
          }
        },
        "6493bc30c625446cade11013f3d19a76": {
          "model_module": "@jupyter-widgets/controls",
          "model_name": "ProgressStyleModel",
          "model_module_version": "1.5.0",
          "state": {
            "_model_module": "@jupyter-widgets/controls",
            "_model_module_version": "1.5.0",
            "_model_name": "ProgressStyleModel",
            "_view_count": null,
            "_view_module": "@jupyter-widgets/base",
            "_view_module_version": "1.2.0",
            "_view_name": "StyleView",
            "bar_color": null,
            "description_width": ""
          }
        },
        "838296984d694330a724f4fbe80f7bda": {
          "model_module": "@jupyter-widgets/base",
          "model_name": "LayoutModel",
          "model_module_version": "1.2.0",
          "state": {
            "_model_module": "@jupyter-widgets/base",
            "_model_module_version": "1.2.0",
            "_model_name": "LayoutModel",
            "_view_count": null,
            "_view_module": "@jupyter-widgets/base",
            "_view_module_version": "1.2.0",
            "_view_name": "LayoutView",
            "align_content": null,
            "align_items": null,
            "align_self": null,
            "border": null,
            "bottom": null,
            "display": null,
            "flex": null,
            "flex_flow": null,
            "grid_area": null,
            "grid_auto_columns": null,
            "grid_auto_flow": null,
            "grid_auto_rows": null,
            "grid_column": null,
            "grid_gap": null,
            "grid_row": null,
            "grid_template_areas": null,
            "grid_template_columns": null,
            "grid_template_rows": null,
            "height": null,
            "justify_content": null,
            "justify_items": null,
            "left": null,
            "margin": null,
            "max_height": null,
            "max_width": null,
            "min_height": null,
            "min_width": null,
            "object_fit": null,
            "object_position": null,
            "order": null,
            "overflow": null,
            "overflow_x": null,
            "overflow_y": null,
            "padding": null,
            "right": null,
            "top": null,
            "visibility": null,
            "width": null
          }
        },
        "0652a2b177fd4007b9f674d00c648b1c": {
          "model_module": "@jupyter-widgets/controls",
          "model_name": "DescriptionStyleModel",
          "model_module_version": "1.5.0",
          "state": {
            "_model_module": "@jupyter-widgets/controls",
            "_model_module_version": "1.5.0",
            "_model_name": "DescriptionStyleModel",
            "_view_count": null,
            "_view_module": "@jupyter-widgets/base",
            "_view_module_version": "1.2.0",
            "_view_name": "StyleView",
            "description_width": ""
          }
        },
        "8b7320060bc34f2fa3294461c0048247": {
          "model_module": "@jupyter-widgets/controls",
          "model_name": "HBoxModel",
          "model_module_version": "1.5.0",
          "state": {
            "_dom_classes": [],
            "_model_module": "@jupyter-widgets/controls",
            "_model_module_version": "1.5.0",
            "_model_name": "HBoxModel",
            "_view_count": null,
            "_view_module": "@jupyter-widgets/controls",
            "_view_module_version": "1.5.0",
            "_view_name": "HBoxView",
            "box_style": "",
            "children": [
              "IPY_MODEL_0ee6bd42bd4b4348ab757e99a3f4e73a",
              "IPY_MODEL_44562d31041e47238930d653f475562f",
              "IPY_MODEL_bcdf6f8320ac47369de3d2ecc8ada605"
            ],
            "layout": "IPY_MODEL_b5f6ef7af40f4bbd83353ba993ce4559"
          }
        },
        "0ee6bd42bd4b4348ab757e99a3f4e73a": {
          "model_module": "@jupyter-widgets/controls",
          "model_name": "HTMLModel",
          "model_module_version": "1.5.0",
          "state": {
            "_dom_classes": [],
            "_model_module": "@jupyter-widgets/controls",
            "_model_module_version": "1.5.0",
            "_model_name": "HTMLModel",
            "_view_count": null,
            "_view_module": "@jupyter-widgets/controls",
            "_view_module_version": "1.5.0",
            "_view_name": "HTMLView",
            "description": "",
            "description_tooltip": null,
            "layout": "IPY_MODEL_6a081c044fce485fa2eb1e2a532b5ad8",
            "placeholder": "​",
            "style": "IPY_MODEL_98a428714e6b43548d03f550c2af35e6",
            "value": "Downloading (…)&quot;pytorch_model.bin&quot;;: 100%"
          }
        },
        "44562d31041e47238930d653f475562f": {
          "model_module": "@jupyter-widgets/controls",
          "model_name": "FloatProgressModel",
          "model_module_version": "1.5.0",
          "state": {
            "_dom_classes": [],
            "_model_module": "@jupyter-widgets/controls",
            "_model_module_version": "1.5.0",
            "_model_name": "FloatProgressModel",
            "_view_count": null,
            "_view_module": "@jupyter-widgets/controls",
            "_view_module_version": "1.5.0",
            "_view_name": "ProgressView",
            "bar_style": "success",
            "description": "",
            "description_tooltip": null,
            "layout": "IPY_MODEL_b01f9cec49bb4177811af61d434e0e1a",
            "max": 5312753599,
            "min": 0,
            "orientation": "horizontal",
            "style": "IPY_MODEL_b7c84e1316b94c809904bde839dd44e7",
            "value": 5312753599
          }
        },
        "bcdf6f8320ac47369de3d2ecc8ada605": {
          "model_module": "@jupyter-widgets/controls",
          "model_name": "HTMLModel",
          "model_module_version": "1.5.0",
          "state": {
            "_dom_classes": [],
            "_model_module": "@jupyter-widgets/controls",
            "_model_module_version": "1.5.0",
            "_model_name": "HTMLModel",
            "_view_count": null,
            "_view_module": "@jupyter-widgets/controls",
            "_view_module_version": "1.5.0",
            "_view_name": "HTMLView",
            "description": "",
            "description_tooltip": null,
            "layout": "IPY_MODEL_f6afd67fa460431ba3e0d2dc124c81d0",
            "placeholder": "​",
            "style": "IPY_MODEL_d714f7df82e743358da6ca3668745cf2",
            "value": " 5.31G/5.31G [01:06&lt;00:00, 82.0MB/s]"
          }
        },
        "b5f6ef7af40f4bbd83353ba993ce4559": {
          "model_module": "@jupyter-widgets/base",
          "model_name": "LayoutModel",
          "model_module_version": "1.2.0",
          "state": {
            "_model_module": "@jupyter-widgets/base",
            "_model_module_version": "1.2.0",
            "_model_name": "LayoutModel",
            "_view_count": null,
            "_view_module": "@jupyter-widgets/base",
            "_view_module_version": "1.2.0",
            "_view_name": "LayoutView",
            "align_content": null,
            "align_items": null,
            "align_self": null,
            "border": null,
            "bottom": null,
            "display": null,
            "flex": null,
            "flex_flow": null,
            "grid_area": null,
            "grid_auto_columns": null,
            "grid_auto_flow": null,
            "grid_auto_rows": null,
            "grid_column": null,
            "grid_gap": null,
            "grid_row": null,
            "grid_template_areas": null,
            "grid_template_columns": null,
            "grid_template_rows": null,
            "height": null,
            "justify_content": null,
            "justify_items": null,
            "left": null,
            "margin": null,
            "max_height": null,
            "max_width": null,
            "min_height": null,
            "min_width": null,
            "object_fit": null,
            "object_position": null,
            "order": null,
            "overflow": null,
            "overflow_x": null,
            "overflow_y": null,
            "padding": null,
            "right": null,
            "top": null,
            "visibility": null,
            "width": null
          }
        },
        "6a081c044fce485fa2eb1e2a532b5ad8": {
          "model_module": "@jupyter-widgets/base",
          "model_name": "LayoutModel",
          "model_module_version": "1.2.0",
          "state": {
            "_model_module": "@jupyter-widgets/base",
            "_model_module_version": "1.2.0",
            "_model_name": "LayoutModel",
            "_view_count": null,
            "_view_module": "@jupyter-widgets/base",
            "_view_module_version": "1.2.0",
            "_view_name": "LayoutView",
            "align_content": null,
            "align_items": null,
            "align_self": null,
            "border": null,
            "bottom": null,
            "display": null,
            "flex": null,
            "flex_flow": null,
            "grid_area": null,
            "grid_auto_columns": null,
            "grid_auto_flow": null,
            "grid_auto_rows": null,
            "grid_column": null,
            "grid_gap": null,
            "grid_row": null,
            "grid_template_areas": null,
            "grid_template_columns": null,
            "grid_template_rows": null,
            "height": null,
            "justify_content": null,
            "justify_items": null,
            "left": null,
            "margin": null,
            "max_height": null,
            "max_width": null,
            "min_height": null,
            "min_width": null,
            "object_fit": null,
            "object_position": null,
            "order": null,
            "overflow": null,
            "overflow_x": null,
            "overflow_y": null,
            "padding": null,
            "right": null,
            "top": null,
            "visibility": null,
            "width": null
          }
        },
        "98a428714e6b43548d03f550c2af35e6": {
          "model_module": "@jupyter-widgets/controls",
          "model_name": "DescriptionStyleModel",
          "model_module_version": "1.5.0",
          "state": {
            "_model_module": "@jupyter-widgets/controls",
            "_model_module_version": "1.5.0",
            "_model_name": "DescriptionStyleModel",
            "_view_count": null,
            "_view_module": "@jupyter-widgets/base",
            "_view_module_version": "1.2.0",
            "_view_name": "StyleView",
            "description_width": ""
          }
        },
        "b01f9cec49bb4177811af61d434e0e1a": {
          "model_module": "@jupyter-widgets/base",
          "model_name": "LayoutModel",
          "model_module_version": "1.2.0",
          "state": {
            "_model_module": "@jupyter-widgets/base",
            "_model_module_version": "1.2.0",
            "_model_name": "LayoutModel",
            "_view_count": null,
            "_view_module": "@jupyter-widgets/base",
            "_view_module_version": "1.2.0",
            "_view_name": "LayoutView",
            "align_content": null,
            "align_items": null,
            "align_self": null,
            "border": null,
            "bottom": null,
            "display": null,
            "flex": null,
            "flex_flow": null,
            "grid_area": null,
            "grid_auto_columns": null,
            "grid_auto_flow": null,
            "grid_auto_rows": null,
            "grid_column": null,
            "grid_gap": null,
            "grid_row": null,
            "grid_template_areas": null,
            "grid_template_columns": null,
            "grid_template_rows": null,
            "height": null,
            "justify_content": null,
            "justify_items": null,
            "left": null,
            "margin": null,
            "max_height": null,
            "max_width": null,
            "min_height": null,
            "min_width": null,
            "object_fit": null,
            "object_position": null,
            "order": null,
            "overflow": null,
            "overflow_x": null,
            "overflow_y": null,
            "padding": null,
            "right": null,
            "top": null,
            "visibility": null,
            "width": null
          }
        },
        "b7c84e1316b94c809904bde839dd44e7": {
          "model_module": "@jupyter-widgets/controls",
          "model_name": "ProgressStyleModel",
          "model_module_version": "1.5.0",
          "state": {
            "_model_module": "@jupyter-widgets/controls",
            "_model_module_version": "1.5.0",
            "_model_name": "ProgressStyleModel",
            "_view_count": null,
            "_view_module": "@jupyter-widgets/base",
            "_view_module_version": "1.2.0",
            "_view_name": "StyleView",
            "bar_color": null,
            "description_width": ""
          }
        },
        "f6afd67fa460431ba3e0d2dc124c81d0": {
          "model_module": "@jupyter-widgets/base",
          "model_name": "LayoutModel",
          "model_module_version": "1.2.0",
          "state": {
            "_model_module": "@jupyter-widgets/base",
            "_model_module_version": "1.2.0",
            "_model_name": "LayoutModel",
            "_view_count": null,
            "_view_module": "@jupyter-widgets/base",
            "_view_module_version": "1.2.0",
            "_view_name": "LayoutView",
            "align_content": null,
            "align_items": null,
            "align_self": null,
            "border": null,
            "bottom": null,
            "display": null,
            "flex": null,
            "flex_flow": null,
            "grid_area": null,
            "grid_auto_columns": null,
            "grid_auto_flow": null,
            "grid_auto_rows": null,
            "grid_column": null,
            "grid_gap": null,
            "grid_row": null,
            "grid_template_areas": null,
            "grid_template_columns": null,
            "grid_template_rows": null,
            "height": null,
            "justify_content": null,
            "justify_items": null,
            "left": null,
            "margin": null,
            "max_height": null,
            "max_width": null,
            "min_height": null,
            "min_width": null,
            "object_fit": null,
            "object_position": null,
            "order": null,
            "overflow": null,
            "overflow_x": null,
            "overflow_y": null,
            "padding": null,
            "right": null,
            "top": null,
            "visibility": null,
            "width": null
          }
        },
        "d714f7df82e743358da6ca3668745cf2": {
          "model_module": "@jupyter-widgets/controls",
          "model_name": "DescriptionStyleModel",
          "model_module_version": "1.5.0",
          "state": {
            "_model_module": "@jupyter-widgets/controls",
            "_model_module_version": "1.5.0",
            "_model_name": "DescriptionStyleModel",
            "_view_count": null,
            "_view_module": "@jupyter-widgets/base",
            "_view_module_version": "1.2.0",
            "_view_name": "StyleView",
            "description_width": ""
          }
        },
        "341d93fcfd72454288bd10e2b3e8ef96": {
          "model_module": "@jupyter-widgets/controls",
          "model_name": "HBoxModel",
          "model_module_version": "1.5.0",
          "state": {
            "_dom_classes": [],
            "_model_module": "@jupyter-widgets/controls",
            "_model_module_version": "1.5.0",
            "_model_name": "HBoxModel",
            "_view_count": null,
            "_view_module": "@jupyter-widgets/controls",
            "_view_module_version": "1.5.0",
            "_view_name": "HBoxView",
            "box_style": "",
            "children": [
              "IPY_MODEL_8df4f198b94d43ada763db6300c4edad",
              "IPY_MODEL_ab10fe17f2324fc983e5122683ee59e1",
              "IPY_MODEL_85e7f901d2c844b6b3c0101d0d4107a9"
            ],
            "layout": "IPY_MODEL_19fb19fa58dd406da8712d0c741a469a"
          }
        },
        "8df4f198b94d43ada763db6300c4edad": {
          "model_module": "@jupyter-widgets/controls",
          "model_name": "HTMLModel",
          "model_module_version": "1.5.0",
          "state": {
            "_dom_classes": [],
            "_model_module": "@jupyter-widgets/controls",
            "_model_module_version": "1.5.0",
            "_model_name": "HTMLModel",
            "_view_count": null,
            "_view_module": "@jupyter-widgets/controls",
            "_view_module_version": "1.5.0",
            "_view_name": "HTMLView",
            "description": "",
            "description_tooltip": null,
            "layout": "IPY_MODEL_d51e59ea8d674c56ab095dd30817b5e3",
            "placeholder": "​",
            "style": "IPY_MODEL_526cf07262354344be8611c771292150",
            "value": "Downloading (…)okenizer_config.json: 100%"
          }
        },
        "ab10fe17f2324fc983e5122683ee59e1": {
          "model_module": "@jupyter-widgets/controls",
          "model_name": "FloatProgressModel",
          "model_module_version": "1.5.0",
          "state": {
            "_dom_classes": [],
            "_model_module": "@jupyter-widgets/controls",
            "_model_module_version": "1.5.0",
            "_model_name": "FloatProgressModel",
            "_view_count": null,
            "_view_module": "@jupyter-widgets/controls",
            "_view_module_version": "1.5.0",
            "_view_name": "ProgressView",
            "bar_style": "success",
            "description": "",
            "description_tooltip": null,
            "layout": "IPY_MODEL_c80d77f603b743a594c3f2c11b6d2267",
            "max": 200,
            "min": 0,
            "orientation": "horizontal",
            "style": "IPY_MODEL_360fb431e6b0429494e7bc2ee4cbf240",
            "value": 200
          }
        },
        "85e7f901d2c844b6b3c0101d0d4107a9": {
          "model_module": "@jupyter-widgets/controls",
          "model_name": "HTMLModel",
          "model_module_version": "1.5.0",
          "state": {
            "_dom_classes": [],
            "_model_module": "@jupyter-widgets/controls",
            "_model_module_version": "1.5.0",
            "_model_name": "HTMLModel",
            "_view_count": null,
            "_view_module": "@jupyter-widgets/controls",
            "_view_module_version": "1.5.0",
            "_view_name": "HTMLView",
            "description": "",
            "description_tooltip": null,
            "layout": "IPY_MODEL_4b5a746e12004fa4b07e850f15bf3e5c",
            "placeholder": "​",
            "style": "IPY_MODEL_39e478dcd3714014a49ec13f42f8c290",
            "value": " 200/200 [00:00&lt;00:00, 7.74kB/s]"
          }
        },
        "19fb19fa58dd406da8712d0c741a469a": {
          "model_module": "@jupyter-widgets/base",
          "model_name": "LayoutModel",
          "model_module_version": "1.2.0",
          "state": {
            "_model_module": "@jupyter-widgets/base",
            "_model_module_version": "1.2.0",
            "_model_name": "LayoutModel",
            "_view_count": null,
            "_view_module": "@jupyter-widgets/base",
            "_view_module_version": "1.2.0",
            "_view_name": "LayoutView",
            "align_content": null,
            "align_items": null,
            "align_self": null,
            "border": null,
            "bottom": null,
            "display": null,
            "flex": null,
            "flex_flow": null,
            "grid_area": null,
            "grid_auto_columns": null,
            "grid_auto_flow": null,
            "grid_auto_rows": null,
            "grid_column": null,
            "grid_gap": null,
            "grid_row": null,
            "grid_template_areas": null,
            "grid_template_columns": null,
            "grid_template_rows": null,
            "height": null,
            "justify_content": null,
            "justify_items": null,
            "left": null,
            "margin": null,
            "max_height": null,
            "max_width": null,
            "min_height": null,
            "min_width": null,
            "object_fit": null,
            "object_position": null,
            "order": null,
            "overflow": null,
            "overflow_x": null,
            "overflow_y": null,
            "padding": null,
            "right": null,
            "top": null,
            "visibility": null,
            "width": null
          }
        },
        "d51e59ea8d674c56ab095dd30817b5e3": {
          "model_module": "@jupyter-widgets/base",
          "model_name": "LayoutModel",
          "model_module_version": "1.2.0",
          "state": {
            "_model_module": "@jupyter-widgets/base",
            "_model_module_version": "1.2.0",
            "_model_name": "LayoutModel",
            "_view_count": null,
            "_view_module": "@jupyter-widgets/base",
            "_view_module_version": "1.2.0",
            "_view_name": "LayoutView",
            "align_content": null,
            "align_items": null,
            "align_self": null,
            "border": null,
            "bottom": null,
            "display": null,
            "flex": null,
            "flex_flow": null,
            "grid_area": null,
            "grid_auto_columns": null,
            "grid_auto_flow": null,
            "grid_auto_rows": null,
            "grid_column": null,
            "grid_gap": null,
            "grid_row": null,
            "grid_template_areas": null,
            "grid_template_columns": null,
            "grid_template_rows": null,
            "height": null,
            "justify_content": null,
            "justify_items": null,
            "left": null,
            "margin": null,
            "max_height": null,
            "max_width": null,
            "min_height": null,
            "min_width": null,
            "object_fit": null,
            "object_position": null,
            "order": null,
            "overflow": null,
            "overflow_x": null,
            "overflow_y": null,
            "padding": null,
            "right": null,
            "top": null,
            "visibility": null,
            "width": null
          }
        },
        "526cf07262354344be8611c771292150": {
          "model_module": "@jupyter-widgets/controls",
          "model_name": "DescriptionStyleModel",
          "model_module_version": "1.5.0",
          "state": {
            "_model_module": "@jupyter-widgets/controls",
            "_model_module_version": "1.5.0",
            "_model_name": "DescriptionStyleModel",
            "_view_count": null,
            "_view_module": "@jupyter-widgets/base",
            "_view_module_version": "1.2.0",
            "_view_name": "StyleView",
            "description_width": ""
          }
        },
        "c80d77f603b743a594c3f2c11b6d2267": {
          "model_module": "@jupyter-widgets/base",
          "model_name": "LayoutModel",
          "model_module_version": "1.2.0",
          "state": {
            "_model_module": "@jupyter-widgets/base",
            "_model_module_version": "1.2.0",
            "_model_name": "LayoutModel",
            "_view_count": null,
            "_view_module": "@jupyter-widgets/base",
            "_view_module_version": "1.2.0",
            "_view_name": "LayoutView",
            "align_content": null,
            "align_items": null,
            "align_self": null,
            "border": null,
            "bottom": null,
            "display": null,
            "flex": null,
            "flex_flow": null,
            "grid_area": null,
            "grid_auto_columns": null,
            "grid_auto_flow": null,
            "grid_auto_rows": null,
            "grid_column": null,
            "grid_gap": null,
            "grid_row": null,
            "grid_template_areas": null,
            "grid_template_columns": null,
            "grid_template_rows": null,
            "height": null,
            "justify_content": null,
            "justify_items": null,
            "left": null,
            "margin": null,
            "max_height": null,
            "max_width": null,
            "min_height": null,
            "min_width": null,
            "object_fit": null,
            "object_position": null,
            "order": null,
            "overflow": null,
            "overflow_x": null,
            "overflow_y": null,
            "padding": null,
            "right": null,
            "top": null,
            "visibility": null,
            "width": null
          }
        },
        "360fb431e6b0429494e7bc2ee4cbf240": {
          "model_module": "@jupyter-widgets/controls",
          "model_name": "ProgressStyleModel",
          "model_module_version": "1.5.0",
          "state": {
            "_model_module": "@jupyter-widgets/controls",
            "_model_module_version": "1.5.0",
            "_model_name": "ProgressStyleModel",
            "_view_count": null,
            "_view_module": "@jupyter-widgets/base",
            "_view_module_version": "1.2.0",
            "_view_name": "StyleView",
            "bar_color": null,
            "description_width": ""
          }
        },
        "4b5a746e12004fa4b07e850f15bf3e5c": {
          "model_module": "@jupyter-widgets/base",
          "model_name": "LayoutModel",
          "model_module_version": "1.2.0",
          "state": {
            "_model_module": "@jupyter-widgets/base",
            "_model_module_version": "1.2.0",
            "_model_name": "LayoutModel",
            "_view_count": null,
            "_view_module": "@jupyter-widgets/base",
            "_view_module_version": "1.2.0",
            "_view_name": "LayoutView",
            "align_content": null,
            "align_items": null,
            "align_self": null,
            "border": null,
            "bottom": null,
            "display": null,
            "flex": null,
            "flex_flow": null,
            "grid_area": null,
            "grid_auto_columns": null,
            "grid_auto_flow": null,
            "grid_auto_rows": null,
            "grid_column": null,
            "grid_gap": null,
            "grid_row": null,
            "grid_template_areas": null,
            "grid_template_columns": null,
            "grid_template_rows": null,
            "height": null,
            "justify_content": null,
            "justify_items": null,
            "left": null,
            "margin": null,
            "max_height": null,
            "max_width": null,
            "min_height": null,
            "min_width": null,
            "object_fit": null,
            "object_position": null,
            "order": null,
            "overflow": null,
            "overflow_x": null,
            "overflow_y": null,
            "padding": null,
            "right": null,
            "top": null,
            "visibility": null,
            "width": null
          }
        },
        "39e478dcd3714014a49ec13f42f8c290": {
          "model_module": "@jupyter-widgets/controls",
          "model_name": "DescriptionStyleModel",
          "model_module_version": "1.5.0",
          "state": {
            "_model_module": "@jupyter-widgets/controls",
            "_model_module_version": "1.5.0",
            "_model_name": "DescriptionStyleModel",
            "_view_count": null,
            "_view_module": "@jupyter-widgets/base",
            "_view_module_version": "1.2.0",
            "_view_name": "StyleView",
            "description_width": ""
          }
        },
        "87da91bfbcae4e0dbb3b44355f7a9a76": {
          "model_module": "@jupyter-widgets/controls",
          "model_name": "HBoxModel",
          "model_module_version": "1.5.0",
          "state": {
            "_dom_classes": [],
            "_model_module": "@jupyter-widgets/controls",
            "_model_module_version": "1.5.0",
            "_model_name": "HBoxModel",
            "_view_count": null,
            "_view_module": "@jupyter-widgets/controls",
            "_view_module_version": "1.5.0",
            "_view_name": "HBoxView",
            "box_style": "",
            "children": [
              "IPY_MODEL_5b4e901c2ed4485583c3e342eff6477e",
              "IPY_MODEL_ce3915e5c8124fb08b44355a68d26530",
              "IPY_MODEL_2c3e74b498f04221904e2bf0be566596"
            ],
            "layout": "IPY_MODEL_983835df0ceb4d19b6dce2df6ca9a841"
          }
        },
        "5b4e901c2ed4485583c3e342eff6477e": {
          "model_module": "@jupyter-widgets/controls",
          "model_name": "HTMLModel",
          "model_module_version": "1.5.0",
          "state": {
            "_dom_classes": [],
            "_model_module": "@jupyter-widgets/controls",
            "_model_module_version": "1.5.0",
            "_model_name": "HTMLModel",
            "_view_count": null,
            "_view_module": "@jupyter-widgets/controls",
            "_view_module_version": "1.5.0",
            "_view_name": "HTMLView",
            "description": "",
            "description_tooltip": null,
            "layout": "IPY_MODEL_e45a778ebde744c59df391450ea9118d",
            "placeholder": "​",
            "style": "IPY_MODEL_2585b54325114cc99edbae81bf6783d6",
            "value": "Downloading (…)olve/main/vocab.json: 100%"
          }
        },
        "ce3915e5c8124fb08b44355a68d26530": {
          "model_module": "@jupyter-widgets/controls",
          "model_name": "FloatProgressModel",
          "model_module_version": "1.5.0",
          "state": {
            "_dom_classes": [],
            "_model_module": "@jupyter-widgets/controls",
            "_model_module_version": "1.5.0",
            "_model_name": "FloatProgressModel",
            "_view_count": null,
            "_view_module": "@jupyter-widgets/controls",
            "_view_module_version": "1.5.0",
            "_view_name": "ProgressView",
            "bar_style": "success",
            "description": "",
            "description_tooltip": null,
            "layout": "IPY_MODEL_acb31bbca8134c019d6cebea69c858a8",
            "max": 798156,
            "min": 0,
            "orientation": "horizontal",
            "style": "IPY_MODEL_68448c2d44a247dcb302defbdfacdfab",
            "value": 798156
          }
        },
        "2c3e74b498f04221904e2bf0be566596": {
          "model_module": "@jupyter-widgets/controls",
          "model_name": "HTMLModel",
          "model_module_version": "1.5.0",
          "state": {
            "_dom_classes": [],
            "_model_module": "@jupyter-widgets/controls",
            "_model_module_version": "1.5.0",
            "_model_name": "HTMLModel",
            "_view_count": null,
            "_view_module": "@jupyter-widgets/controls",
            "_view_module_version": "1.5.0",
            "_view_name": "HTMLView",
            "description": "",
            "description_tooltip": null,
            "layout": "IPY_MODEL_45fc8b549cd649f0a827fdf1c01b41ae",
            "placeholder": "​",
            "style": "IPY_MODEL_b473150521b7479c80dbae51ef5df8fb",
            "value": " 798k/798k [00:01&lt;00:00, 719kB/s]"
          }
        },
        "983835df0ceb4d19b6dce2df6ca9a841": {
          "model_module": "@jupyter-widgets/base",
          "model_name": "LayoutModel",
          "model_module_version": "1.2.0",
          "state": {
            "_model_module": "@jupyter-widgets/base",
            "_model_module_version": "1.2.0",
            "_model_name": "LayoutModel",
            "_view_count": null,
            "_view_module": "@jupyter-widgets/base",
            "_view_module_version": "1.2.0",
            "_view_name": "LayoutView",
            "align_content": null,
            "align_items": null,
            "align_self": null,
            "border": null,
            "bottom": null,
            "display": null,
            "flex": null,
            "flex_flow": null,
            "grid_area": null,
            "grid_auto_columns": null,
            "grid_auto_flow": null,
            "grid_auto_rows": null,
            "grid_column": null,
            "grid_gap": null,
            "grid_row": null,
            "grid_template_areas": null,
            "grid_template_columns": null,
            "grid_template_rows": null,
            "height": null,
            "justify_content": null,
            "justify_items": null,
            "left": null,
            "margin": null,
            "max_height": null,
            "max_width": null,
            "min_height": null,
            "min_width": null,
            "object_fit": null,
            "object_position": null,
            "order": null,
            "overflow": null,
            "overflow_x": null,
            "overflow_y": null,
            "padding": null,
            "right": null,
            "top": null,
            "visibility": null,
            "width": null
          }
        },
        "e45a778ebde744c59df391450ea9118d": {
          "model_module": "@jupyter-widgets/base",
          "model_name": "LayoutModel",
          "model_module_version": "1.2.0",
          "state": {
            "_model_module": "@jupyter-widgets/base",
            "_model_module_version": "1.2.0",
            "_model_name": "LayoutModel",
            "_view_count": null,
            "_view_module": "@jupyter-widgets/base",
            "_view_module_version": "1.2.0",
            "_view_name": "LayoutView",
            "align_content": null,
            "align_items": null,
            "align_self": null,
            "border": null,
            "bottom": null,
            "display": null,
            "flex": null,
            "flex_flow": null,
            "grid_area": null,
            "grid_auto_columns": null,
            "grid_auto_flow": null,
            "grid_auto_rows": null,
            "grid_column": null,
            "grid_gap": null,
            "grid_row": null,
            "grid_template_areas": null,
            "grid_template_columns": null,
            "grid_template_rows": null,
            "height": null,
            "justify_content": null,
            "justify_items": null,
            "left": null,
            "margin": null,
            "max_height": null,
            "max_width": null,
            "min_height": null,
            "min_width": null,
            "object_fit": null,
            "object_position": null,
            "order": null,
            "overflow": null,
            "overflow_x": null,
            "overflow_y": null,
            "padding": null,
            "right": null,
            "top": null,
            "visibility": null,
            "width": null
          }
        },
        "2585b54325114cc99edbae81bf6783d6": {
          "model_module": "@jupyter-widgets/controls",
          "model_name": "DescriptionStyleModel",
          "model_module_version": "1.5.0",
          "state": {
            "_model_module": "@jupyter-widgets/controls",
            "_model_module_version": "1.5.0",
            "_model_name": "DescriptionStyleModel",
            "_view_count": null,
            "_view_module": "@jupyter-widgets/base",
            "_view_module_version": "1.2.0",
            "_view_name": "StyleView",
            "description_width": ""
          }
        },
        "acb31bbca8134c019d6cebea69c858a8": {
          "model_module": "@jupyter-widgets/base",
          "model_name": "LayoutModel",
          "model_module_version": "1.2.0",
          "state": {
            "_model_module": "@jupyter-widgets/base",
            "_model_module_version": "1.2.0",
            "_model_name": "LayoutModel",
            "_view_count": null,
            "_view_module": "@jupyter-widgets/base",
            "_view_module_version": "1.2.0",
            "_view_name": "LayoutView",
            "align_content": null,
            "align_items": null,
            "align_self": null,
            "border": null,
            "bottom": null,
            "display": null,
            "flex": null,
            "flex_flow": null,
            "grid_area": null,
            "grid_auto_columns": null,
            "grid_auto_flow": null,
            "grid_auto_rows": null,
            "grid_column": null,
            "grid_gap": null,
            "grid_row": null,
            "grid_template_areas": null,
            "grid_template_columns": null,
            "grid_template_rows": null,
            "height": null,
            "justify_content": null,
            "justify_items": null,
            "left": null,
            "margin": null,
            "max_height": null,
            "max_width": null,
            "min_height": null,
            "min_width": null,
            "object_fit": null,
            "object_position": null,
            "order": null,
            "overflow": null,
            "overflow_x": null,
            "overflow_y": null,
            "padding": null,
            "right": null,
            "top": null,
            "visibility": null,
            "width": null
          }
        },
        "68448c2d44a247dcb302defbdfacdfab": {
          "model_module": "@jupyter-widgets/controls",
          "model_name": "ProgressStyleModel",
          "model_module_version": "1.5.0",
          "state": {
            "_model_module": "@jupyter-widgets/controls",
            "_model_module_version": "1.5.0",
            "_model_name": "ProgressStyleModel",
            "_view_count": null,
            "_view_module": "@jupyter-widgets/base",
            "_view_module_version": "1.2.0",
            "_view_name": "StyleView",
            "bar_color": null,
            "description_width": ""
          }
        },
        "45fc8b549cd649f0a827fdf1c01b41ae": {
          "model_module": "@jupyter-widgets/base",
          "model_name": "LayoutModel",
          "model_module_version": "1.2.0",
          "state": {
            "_model_module": "@jupyter-widgets/base",
            "_model_module_version": "1.2.0",
            "_model_name": "LayoutModel",
            "_view_count": null,
            "_view_module": "@jupyter-widgets/base",
            "_view_module_version": "1.2.0",
            "_view_name": "LayoutView",
            "align_content": null,
            "align_items": null,
            "align_self": null,
            "border": null,
            "bottom": null,
            "display": null,
            "flex": null,
            "flex_flow": null,
            "grid_area": null,
            "grid_auto_columns": null,
            "grid_auto_flow": null,
            "grid_auto_rows": null,
            "grid_column": null,
            "grid_gap": null,
            "grid_row": null,
            "grid_template_areas": null,
            "grid_template_columns": null,
            "grid_template_rows": null,
            "height": null,
            "justify_content": null,
            "justify_items": null,
            "left": null,
            "margin": null,
            "max_height": null,
            "max_width": null,
            "min_height": null,
            "min_width": null,
            "object_fit": null,
            "object_position": null,
            "order": null,
            "overflow": null,
            "overflow_x": null,
            "overflow_y": null,
            "padding": null,
            "right": null,
            "top": null,
            "visibility": null,
            "width": null
          }
        },
        "b473150521b7479c80dbae51ef5df8fb": {
          "model_module": "@jupyter-widgets/controls",
          "model_name": "DescriptionStyleModel",
          "model_module_version": "1.5.0",
          "state": {
            "_model_module": "@jupyter-widgets/controls",
            "_model_module_version": "1.5.0",
            "_model_name": "DescriptionStyleModel",
            "_view_count": null,
            "_view_module": "@jupyter-widgets/base",
            "_view_module_version": "1.2.0",
            "_view_name": "StyleView",
            "description_width": ""
          }
        },
        "e336f48c5c3a466baff7440e57728e3c": {
          "model_module": "@jupyter-widgets/controls",
          "model_name": "HBoxModel",
          "model_module_version": "1.5.0",
          "state": {
            "_dom_classes": [],
            "_model_module": "@jupyter-widgets/controls",
            "_model_module_version": "1.5.0",
            "_model_name": "HBoxModel",
            "_view_count": null,
            "_view_module": "@jupyter-widgets/controls",
            "_view_module_version": "1.5.0",
            "_view_name": "HBoxView",
            "box_style": "",
            "children": [
              "IPY_MODEL_51814fc650aa412fbd794cb8eca13be8",
              "IPY_MODEL_7e275a256af74e7ebd54f371881e46f5",
              "IPY_MODEL_39d425ea57244dc1a241727a9f9de49c"
            ],
            "layout": "IPY_MODEL_b25ad758c3ba42babf0eb69098b4dd7b"
          }
        },
        "51814fc650aa412fbd794cb8eca13be8": {
          "model_module": "@jupyter-widgets/controls",
          "model_name": "HTMLModel",
          "model_module_version": "1.5.0",
          "state": {
            "_dom_classes": [],
            "_model_module": "@jupyter-widgets/controls",
            "_model_module_version": "1.5.0",
            "_model_name": "HTMLModel",
            "_view_count": null,
            "_view_module": "@jupyter-widgets/controls",
            "_view_module_version": "1.5.0",
            "_view_name": "HTMLView",
            "description": "",
            "description_tooltip": null,
            "layout": "IPY_MODEL_1a5888c497dc4be7a2a32ea2047ecb68",
            "placeholder": "​",
            "style": "IPY_MODEL_68e128d4074041ea910187e43a97c2da",
            "value": "Downloading (…)olve/main/merges.txt: 100%"
          }
        },
        "7e275a256af74e7ebd54f371881e46f5": {
          "model_module": "@jupyter-widgets/controls",
          "model_name": "FloatProgressModel",
          "model_module_version": "1.5.0",
          "state": {
            "_dom_classes": [],
            "_model_module": "@jupyter-widgets/controls",
            "_model_module_version": "1.5.0",
            "_model_name": "FloatProgressModel",
            "_view_count": null,
            "_view_module": "@jupyter-widgets/controls",
            "_view_module_version": "1.5.0",
            "_view_name": "ProgressView",
            "bar_style": "success",
            "description": "",
            "description_tooltip": null,
            "layout": "IPY_MODEL_118b62a5b80445ca8a818d08b82b23b9",
            "max": 456356,
            "min": 0,
            "orientation": "horizontal",
            "style": "IPY_MODEL_a92852b6df664c7f9376f99aef207488",
            "value": 456356
          }
        },
        "39d425ea57244dc1a241727a9f9de49c": {
          "model_module": "@jupyter-widgets/controls",
          "model_name": "HTMLModel",
          "model_module_version": "1.5.0",
          "state": {
            "_dom_classes": [],
            "_model_module": "@jupyter-widgets/controls",
            "_model_module_version": "1.5.0",
            "_model_name": "HTMLModel",
            "_view_count": null,
            "_view_module": "@jupyter-widgets/controls",
            "_view_module_version": "1.5.0",
            "_view_name": "HTMLView",
            "description": "",
            "description_tooltip": null,
            "layout": "IPY_MODEL_cce525df5b1944f6b87a1088a6adb0de",
            "placeholder": "​",
            "style": "IPY_MODEL_6d369c23ddab4002b6790dcbd091b2f9",
            "value": " 456k/456k [00:00&lt;00:00, 517kB/s]"
          }
        },
        "b25ad758c3ba42babf0eb69098b4dd7b": {
          "model_module": "@jupyter-widgets/base",
          "model_name": "LayoutModel",
          "model_module_version": "1.2.0",
          "state": {
            "_model_module": "@jupyter-widgets/base",
            "_model_module_version": "1.2.0",
            "_model_name": "LayoutModel",
            "_view_count": null,
            "_view_module": "@jupyter-widgets/base",
            "_view_module_version": "1.2.0",
            "_view_name": "LayoutView",
            "align_content": null,
            "align_items": null,
            "align_self": null,
            "border": null,
            "bottom": null,
            "display": null,
            "flex": null,
            "flex_flow": null,
            "grid_area": null,
            "grid_auto_columns": null,
            "grid_auto_flow": null,
            "grid_auto_rows": null,
            "grid_column": null,
            "grid_gap": null,
            "grid_row": null,
            "grid_template_areas": null,
            "grid_template_columns": null,
            "grid_template_rows": null,
            "height": null,
            "justify_content": null,
            "justify_items": null,
            "left": null,
            "margin": null,
            "max_height": null,
            "max_width": null,
            "min_height": null,
            "min_width": null,
            "object_fit": null,
            "object_position": null,
            "order": null,
            "overflow": null,
            "overflow_x": null,
            "overflow_y": null,
            "padding": null,
            "right": null,
            "top": null,
            "visibility": null,
            "width": null
          }
        },
        "1a5888c497dc4be7a2a32ea2047ecb68": {
          "model_module": "@jupyter-widgets/base",
          "model_name": "LayoutModel",
          "model_module_version": "1.2.0",
          "state": {
            "_model_module": "@jupyter-widgets/base",
            "_model_module_version": "1.2.0",
            "_model_name": "LayoutModel",
            "_view_count": null,
            "_view_module": "@jupyter-widgets/base",
            "_view_module_version": "1.2.0",
            "_view_name": "LayoutView",
            "align_content": null,
            "align_items": null,
            "align_self": null,
            "border": null,
            "bottom": null,
            "display": null,
            "flex": null,
            "flex_flow": null,
            "grid_area": null,
            "grid_auto_columns": null,
            "grid_auto_flow": null,
            "grid_auto_rows": null,
            "grid_column": null,
            "grid_gap": null,
            "grid_row": null,
            "grid_template_areas": null,
            "grid_template_columns": null,
            "grid_template_rows": null,
            "height": null,
            "justify_content": null,
            "justify_items": null,
            "left": null,
            "margin": null,
            "max_height": null,
            "max_width": null,
            "min_height": null,
            "min_width": null,
            "object_fit": null,
            "object_position": null,
            "order": null,
            "overflow": null,
            "overflow_x": null,
            "overflow_y": null,
            "padding": null,
            "right": null,
            "top": null,
            "visibility": null,
            "width": null
          }
        },
        "68e128d4074041ea910187e43a97c2da": {
          "model_module": "@jupyter-widgets/controls",
          "model_name": "DescriptionStyleModel",
          "model_module_version": "1.5.0",
          "state": {
            "_model_module": "@jupyter-widgets/controls",
            "_model_module_version": "1.5.0",
            "_model_name": "DescriptionStyleModel",
            "_view_count": null,
            "_view_module": "@jupyter-widgets/base",
            "_view_module_version": "1.2.0",
            "_view_name": "StyleView",
            "description_width": ""
          }
        },
        "118b62a5b80445ca8a818d08b82b23b9": {
          "model_module": "@jupyter-widgets/base",
          "model_name": "LayoutModel",
          "model_module_version": "1.2.0",
          "state": {
            "_model_module": "@jupyter-widgets/base",
            "_model_module_version": "1.2.0",
            "_model_name": "LayoutModel",
            "_view_count": null,
            "_view_module": "@jupyter-widgets/base",
            "_view_module_version": "1.2.0",
            "_view_name": "LayoutView",
            "align_content": null,
            "align_items": null,
            "align_self": null,
            "border": null,
            "bottom": null,
            "display": null,
            "flex": null,
            "flex_flow": null,
            "grid_area": null,
            "grid_auto_columns": null,
            "grid_auto_flow": null,
            "grid_auto_rows": null,
            "grid_column": null,
            "grid_gap": null,
            "grid_row": null,
            "grid_template_areas": null,
            "grid_template_columns": null,
            "grid_template_rows": null,
            "height": null,
            "justify_content": null,
            "justify_items": null,
            "left": null,
            "margin": null,
            "max_height": null,
            "max_width": null,
            "min_height": null,
            "min_width": null,
            "object_fit": null,
            "object_position": null,
            "order": null,
            "overflow": null,
            "overflow_x": null,
            "overflow_y": null,
            "padding": null,
            "right": null,
            "top": null,
            "visibility": null,
            "width": null
          }
        },
        "a92852b6df664c7f9376f99aef207488": {
          "model_module": "@jupyter-widgets/controls",
          "model_name": "ProgressStyleModel",
          "model_module_version": "1.5.0",
          "state": {
            "_model_module": "@jupyter-widgets/controls",
            "_model_module_version": "1.5.0",
            "_model_name": "ProgressStyleModel",
            "_view_count": null,
            "_view_module": "@jupyter-widgets/base",
            "_view_module_version": "1.2.0",
            "_view_name": "StyleView",
            "bar_color": null,
            "description_width": ""
          }
        },
        "cce525df5b1944f6b87a1088a6adb0de": {
          "model_module": "@jupyter-widgets/base",
          "model_name": "LayoutModel",
          "model_module_version": "1.2.0",
          "state": {
            "_model_module": "@jupyter-widgets/base",
            "_model_module_version": "1.2.0",
            "_model_name": "LayoutModel",
            "_view_count": null,
            "_view_module": "@jupyter-widgets/base",
            "_view_module_version": "1.2.0",
            "_view_name": "LayoutView",
            "align_content": null,
            "align_items": null,
            "align_self": null,
            "border": null,
            "bottom": null,
            "display": null,
            "flex": null,
            "flex_flow": null,
            "grid_area": null,
            "grid_auto_columns": null,
            "grid_auto_flow": null,
            "grid_auto_rows": null,
            "grid_column": null,
            "grid_gap": null,
            "grid_row": null,
            "grid_template_areas": null,
            "grid_template_columns": null,
            "grid_template_rows": null,
            "height": null,
            "justify_content": null,
            "justify_items": null,
            "left": null,
            "margin": null,
            "max_height": null,
            "max_width": null,
            "min_height": null,
            "min_width": null,
            "object_fit": null,
            "object_position": null,
            "order": null,
            "overflow": null,
            "overflow_x": null,
            "overflow_y": null,
            "padding": null,
            "right": null,
            "top": null,
            "visibility": null,
            "width": null
          }
        },
        "6d369c23ddab4002b6790dcbd091b2f9": {
          "model_module": "@jupyter-widgets/controls",
          "model_name": "DescriptionStyleModel",
          "model_module_version": "1.5.0",
          "state": {
            "_model_module": "@jupyter-widgets/controls",
            "_model_module_version": "1.5.0",
            "_model_name": "DescriptionStyleModel",
            "_view_count": null,
            "_view_module": "@jupyter-widgets/base",
            "_view_module_version": "1.2.0",
            "_view_name": "StyleView",
            "description_width": ""
          }
        },
        "1f1105696d744bcd97cc321c7c4dbef0": {
          "model_module": "@jupyter-widgets/controls",
          "model_name": "HBoxModel",
          "model_module_version": "1.5.0",
          "state": {
            "_dom_classes": [],
            "_model_module": "@jupyter-widgets/controls",
            "_model_module_version": "1.5.0",
            "_model_name": "HBoxModel",
            "_view_count": null,
            "_view_module": "@jupyter-widgets/controls",
            "_view_module_version": "1.5.0",
            "_view_name": "HBoxView",
            "box_style": "",
            "children": [
              "IPY_MODEL_63a413f3737847c6bd0c7a62f19ae5b9",
              "IPY_MODEL_e42ef250352542a0a5ceafbb0980c1ce",
              "IPY_MODEL_bfb8d944a2ee49f3b4bb29a11a520ccf"
            ],
            "layout": "IPY_MODEL_2f24a862c3cf416e90562a98946c8965"
          }
        },
        "63a413f3737847c6bd0c7a62f19ae5b9": {
          "model_module": "@jupyter-widgets/controls",
          "model_name": "HTMLModel",
          "model_module_version": "1.5.0",
          "state": {
            "_dom_classes": [],
            "_model_module": "@jupyter-widgets/controls",
            "_model_module_version": "1.5.0",
            "_model_name": "HTMLModel",
            "_view_count": null,
            "_view_module": "@jupyter-widgets/controls",
            "_view_module_version": "1.5.0",
            "_view_name": "HTMLView",
            "description": "",
            "description_tooltip": null,
            "layout": "IPY_MODEL_8a552406760849cb8195c813ecb7a216",
            "placeholder": "​",
            "style": "IPY_MODEL_d5998c371f6b44d99df4a342834b97eb",
            "value": "Downloading (…)cial_tokens_map.json: 100%"
          }
        },
        "e42ef250352542a0a5ceafbb0980c1ce": {
          "model_module": "@jupyter-widgets/controls",
          "model_name": "FloatProgressModel",
          "model_module_version": "1.5.0",
          "state": {
            "_dom_classes": [],
            "_model_module": "@jupyter-widgets/controls",
            "_model_module_version": "1.5.0",
            "_model_name": "FloatProgressModel",
            "_view_count": null,
            "_view_module": "@jupyter-widgets/controls",
            "_view_module_version": "1.5.0",
            "_view_name": "ProgressView",
            "bar_style": "success",
            "description": "",
            "description_tooltip": null,
            "layout": "IPY_MODEL_138f5b8286754642803d7f348a565df4",
            "max": 90,
            "min": 0,
            "orientation": "horizontal",
            "style": "IPY_MODEL_fb9d0518b94146e3826249b2670469f2",
            "value": 90
          }
        },
        "bfb8d944a2ee49f3b4bb29a11a520ccf": {
          "model_module": "@jupyter-widgets/controls",
          "model_name": "HTMLModel",
          "model_module_version": "1.5.0",
          "state": {
            "_dom_classes": [],
            "_model_module": "@jupyter-widgets/controls",
            "_model_module_version": "1.5.0",
            "_model_name": "HTMLModel",
            "_view_count": null,
            "_view_module": "@jupyter-widgets/controls",
            "_view_module_version": "1.5.0",
            "_view_name": "HTMLView",
            "description": "",
            "description_tooltip": null,
            "layout": "IPY_MODEL_d3de0a4eefd84a16bd34be35446502a4",
            "placeholder": "​",
            "style": "IPY_MODEL_71b0ab4a2a8c421cb41ea1172cbde04b",
            "value": " 90.0/90.0 [00:00&lt;00:00, 5.03kB/s]"
          }
        },
        "2f24a862c3cf416e90562a98946c8965": {
          "model_module": "@jupyter-widgets/base",
          "model_name": "LayoutModel",
          "model_module_version": "1.2.0",
          "state": {
            "_model_module": "@jupyter-widgets/base",
            "_model_module_version": "1.2.0",
            "_model_name": "LayoutModel",
            "_view_count": null,
            "_view_module": "@jupyter-widgets/base",
            "_view_module_version": "1.2.0",
            "_view_name": "LayoutView",
            "align_content": null,
            "align_items": null,
            "align_self": null,
            "border": null,
            "bottom": null,
            "display": null,
            "flex": null,
            "flex_flow": null,
            "grid_area": null,
            "grid_auto_columns": null,
            "grid_auto_flow": null,
            "grid_auto_rows": null,
            "grid_column": null,
            "grid_gap": null,
            "grid_row": null,
            "grid_template_areas": null,
            "grid_template_columns": null,
            "grid_template_rows": null,
            "height": null,
            "justify_content": null,
            "justify_items": null,
            "left": null,
            "margin": null,
            "max_height": null,
            "max_width": null,
            "min_height": null,
            "min_width": null,
            "object_fit": null,
            "object_position": null,
            "order": null,
            "overflow": null,
            "overflow_x": null,
            "overflow_y": null,
            "padding": null,
            "right": null,
            "top": null,
            "visibility": null,
            "width": null
          }
        },
        "8a552406760849cb8195c813ecb7a216": {
          "model_module": "@jupyter-widgets/base",
          "model_name": "LayoutModel",
          "model_module_version": "1.2.0",
          "state": {
            "_model_module": "@jupyter-widgets/base",
            "_model_module_version": "1.2.0",
            "_model_name": "LayoutModel",
            "_view_count": null,
            "_view_module": "@jupyter-widgets/base",
            "_view_module_version": "1.2.0",
            "_view_name": "LayoutView",
            "align_content": null,
            "align_items": null,
            "align_self": null,
            "border": null,
            "bottom": null,
            "display": null,
            "flex": null,
            "flex_flow": null,
            "grid_area": null,
            "grid_auto_columns": null,
            "grid_auto_flow": null,
            "grid_auto_rows": null,
            "grid_column": null,
            "grid_gap": null,
            "grid_row": null,
            "grid_template_areas": null,
            "grid_template_columns": null,
            "grid_template_rows": null,
            "height": null,
            "justify_content": null,
            "justify_items": null,
            "left": null,
            "margin": null,
            "max_height": null,
            "max_width": null,
            "min_height": null,
            "min_width": null,
            "object_fit": null,
            "object_position": null,
            "order": null,
            "overflow": null,
            "overflow_x": null,
            "overflow_y": null,
            "padding": null,
            "right": null,
            "top": null,
            "visibility": null,
            "width": null
          }
        },
        "d5998c371f6b44d99df4a342834b97eb": {
          "model_module": "@jupyter-widgets/controls",
          "model_name": "DescriptionStyleModel",
          "model_module_version": "1.5.0",
          "state": {
            "_model_module": "@jupyter-widgets/controls",
            "_model_module_version": "1.5.0",
            "_model_name": "DescriptionStyleModel",
            "_view_count": null,
            "_view_module": "@jupyter-widgets/base",
            "_view_module_version": "1.2.0",
            "_view_name": "StyleView",
            "description_width": ""
          }
        },
        "138f5b8286754642803d7f348a565df4": {
          "model_module": "@jupyter-widgets/base",
          "model_name": "LayoutModel",
          "model_module_version": "1.2.0",
          "state": {
            "_model_module": "@jupyter-widgets/base",
            "_model_module_version": "1.2.0",
            "_model_name": "LayoutModel",
            "_view_count": null,
            "_view_module": "@jupyter-widgets/base",
            "_view_module_version": "1.2.0",
            "_view_name": "LayoutView",
            "align_content": null,
            "align_items": null,
            "align_self": null,
            "border": null,
            "bottom": null,
            "display": null,
            "flex": null,
            "flex_flow": null,
            "grid_area": null,
            "grid_auto_columns": null,
            "grid_auto_flow": null,
            "grid_auto_rows": null,
            "grid_column": null,
            "grid_gap": null,
            "grid_row": null,
            "grid_template_areas": null,
            "grid_template_columns": null,
            "grid_template_rows": null,
            "height": null,
            "justify_content": null,
            "justify_items": null,
            "left": null,
            "margin": null,
            "max_height": null,
            "max_width": null,
            "min_height": null,
            "min_width": null,
            "object_fit": null,
            "object_position": null,
            "order": null,
            "overflow": null,
            "overflow_x": null,
            "overflow_y": null,
            "padding": null,
            "right": null,
            "top": null,
            "visibility": null,
            "width": null
          }
        },
        "fb9d0518b94146e3826249b2670469f2": {
          "model_module": "@jupyter-widgets/controls",
          "model_name": "ProgressStyleModel",
          "model_module_version": "1.5.0",
          "state": {
            "_model_module": "@jupyter-widgets/controls",
            "_model_module_version": "1.5.0",
            "_model_name": "ProgressStyleModel",
            "_view_count": null,
            "_view_module": "@jupyter-widgets/base",
            "_view_module_version": "1.2.0",
            "_view_name": "StyleView",
            "bar_color": null,
            "description_width": ""
          }
        },
        "d3de0a4eefd84a16bd34be35446502a4": {
          "model_module": "@jupyter-widgets/base",
          "model_name": "LayoutModel",
          "model_module_version": "1.2.0",
          "state": {
            "_model_module": "@jupyter-widgets/base",
            "_model_module_version": "1.2.0",
            "_model_name": "LayoutModel",
            "_view_count": null,
            "_view_module": "@jupyter-widgets/base",
            "_view_module_version": "1.2.0",
            "_view_name": "LayoutView",
            "align_content": null,
            "align_items": null,
            "align_self": null,
            "border": null,
            "bottom": null,
            "display": null,
            "flex": null,
            "flex_flow": null,
            "grid_area": null,
            "grid_auto_columns": null,
            "grid_auto_flow": null,
            "grid_auto_rows": null,
            "grid_column": null,
            "grid_gap": null,
            "grid_row": null,
            "grid_template_areas": null,
            "grid_template_columns": null,
            "grid_template_rows": null,
            "height": null,
            "justify_content": null,
            "justify_items": null,
            "left": null,
            "margin": null,
            "max_height": null,
            "max_width": null,
            "min_height": null,
            "min_width": null,
            "object_fit": null,
            "object_position": null,
            "order": null,
            "overflow": null,
            "overflow_x": null,
            "overflow_y": null,
            "padding": null,
            "right": null,
            "top": null,
            "visibility": null,
            "width": null
          }
        },
        "71b0ab4a2a8c421cb41ea1172cbde04b": {
          "model_module": "@jupyter-widgets/controls",
          "model_name": "DescriptionStyleModel",
          "model_module_version": "1.5.0",
          "state": {
            "_model_module": "@jupyter-widgets/controls",
            "_model_module_version": "1.5.0",
            "_model_name": "DescriptionStyleModel",
            "_view_count": null,
            "_view_module": "@jupyter-widgets/base",
            "_view_module_version": "1.2.0",
            "_view_name": "StyleView",
            "description_width": ""
          }
        }
      }
    },
    "accelerator": "GPU",
    "gpuClass": "premium"
  },
  "cells": [
    {
      "cell_type": "markdown",
      "source": [
        "Generating text for the last epsiode of Friends after \"Did she get off the plane?\" using GPT-3"
      ],
      "metadata": {
        "id": "A36XZWTgl_yC"
      }
    },
    {
      "cell_type": "code",
      "source": [
        "#Install Transformer\n",
        "pip install transformers"
      ],
      "metadata": {
        "id": "p7QaDTjLBQq5"
      },
      "execution_count": null,
      "outputs": []
    },
    {
      "cell_type": "code",
      "source": [
        "#import transformers and pipline\n",
        "import transformers\n",
        "from transformers import pipeline"
      ],
      "metadata": {
        "id": "0KUrkl_jBdsW"
      },
      "execution_count": 2,
      "outputs": []
    },
    {
      "cell_type": "code",
      "source": [
        "#create gpt-3 model\n",
        "generator = pipeline('text-generation', model = 'eleutherai/gpt-neo-1.3b')"
      ],
      "metadata": {
        "colab": {
          "base_uri": "https://localhost:8080/",
          "height": 209,
          "referenced_widgets": [
            "8797d388096e404b834c86714c300120",
            "f5241053151745869f00ef1473d4e1ea",
            "f98d18fbc844479e88071d2483b9e200",
            "c106c236b9384c16940f0ea6132a2ec5",
            "e8893f6156784b5690d2dc9e5b20e75f",
            "cdadc975ef1845b6b854a429f1151591",
            "02aa0af2f584470aae177f78a04a9846",
            "063b65393af04996bbbae5209c113411",
            "6493bc30c625446cade11013f3d19a76",
            "838296984d694330a724f4fbe80f7bda",
            "0652a2b177fd4007b9f674d00c648b1c",
            "8b7320060bc34f2fa3294461c0048247",
            "0ee6bd42bd4b4348ab757e99a3f4e73a",
            "44562d31041e47238930d653f475562f",
            "bcdf6f8320ac47369de3d2ecc8ada605",
            "b5f6ef7af40f4bbd83353ba993ce4559",
            "6a081c044fce485fa2eb1e2a532b5ad8",
            "98a428714e6b43548d03f550c2af35e6",
            "b01f9cec49bb4177811af61d434e0e1a",
            "b7c84e1316b94c809904bde839dd44e7",
            "f6afd67fa460431ba3e0d2dc124c81d0",
            "d714f7df82e743358da6ca3668745cf2",
            "341d93fcfd72454288bd10e2b3e8ef96",
            "8df4f198b94d43ada763db6300c4edad",
            "ab10fe17f2324fc983e5122683ee59e1",
            "85e7f901d2c844b6b3c0101d0d4107a9",
            "19fb19fa58dd406da8712d0c741a469a",
            "d51e59ea8d674c56ab095dd30817b5e3",
            "526cf07262354344be8611c771292150",
            "c80d77f603b743a594c3f2c11b6d2267",
            "360fb431e6b0429494e7bc2ee4cbf240",
            "4b5a746e12004fa4b07e850f15bf3e5c",
            "39e478dcd3714014a49ec13f42f8c290",
            "87da91bfbcae4e0dbb3b44355f7a9a76",
            "5b4e901c2ed4485583c3e342eff6477e",
            "ce3915e5c8124fb08b44355a68d26530",
            "2c3e74b498f04221904e2bf0be566596",
            "983835df0ceb4d19b6dce2df6ca9a841",
            "e45a778ebde744c59df391450ea9118d",
            "2585b54325114cc99edbae81bf6783d6",
            "acb31bbca8134c019d6cebea69c858a8",
            "68448c2d44a247dcb302defbdfacdfab",
            "45fc8b549cd649f0a827fdf1c01b41ae",
            "b473150521b7479c80dbae51ef5df8fb",
            "e336f48c5c3a466baff7440e57728e3c",
            "51814fc650aa412fbd794cb8eca13be8",
            "7e275a256af74e7ebd54f371881e46f5",
            "39d425ea57244dc1a241727a9f9de49c",
            "b25ad758c3ba42babf0eb69098b4dd7b",
            "1a5888c497dc4be7a2a32ea2047ecb68",
            "68e128d4074041ea910187e43a97c2da",
            "118b62a5b80445ca8a818d08b82b23b9",
            "a92852b6df664c7f9376f99aef207488",
            "cce525df5b1944f6b87a1088a6adb0de",
            "6d369c23ddab4002b6790dcbd091b2f9",
            "1f1105696d744bcd97cc321c7c4dbef0",
            "63a413f3737847c6bd0c7a62f19ae5b9",
            "e42ef250352542a0a5ceafbb0980c1ce",
            "bfb8d944a2ee49f3b4bb29a11a520ccf",
            "2f24a862c3cf416e90562a98946c8965",
            "8a552406760849cb8195c813ecb7a216",
            "d5998c371f6b44d99df4a342834b97eb",
            "138f5b8286754642803d7f348a565df4",
            "fb9d0518b94146e3826249b2670469f2",
            "d3de0a4eefd84a16bd34be35446502a4",
            "71b0ab4a2a8c421cb41ea1172cbde04b"
          ]
        },
        "id": "QWUXRZpkWvv5",
        "outputId": "3697d917-aebf-4bda-ce8d-12c558480199"
      },
      "execution_count": 4,
      "outputs": [
        {
          "output_type": "display_data",
          "data": {
            "text/plain": [
              "Downloading (…)lve/main/config.json:   0%|          | 0.00/1.35k [00:00<?, ?B/s]"
            ],
            "application/vnd.jupyter.widget-view+json": {
              "version_major": 2,
              "version_minor": 0,
              "model_id": "8797d388096e404b834c86714c300120"
            }
          },
          "metadata": {}
        },
        {
          "output_type": "display_data",
          "data": {
            "text/plain": [
              "Downloading (…)\"pytorch_model.bin\";:   0%|          | 0.00/5.31G [00:00<?, ?B/s]"
            ],
            "application/vnd.jupyter.widget-view+json": {
              "version_major": 2,
              "version_minor": 0,
              "model_id": "8b7320060bc34f2fa3294461c0048247"
            }
          },
          "metadata": {}
        },
        {
          "output_type": "display_data",
          "data": {
            "text/plain": [
              "Downloading (…)okenizer_config.json:   0%|          | 0.00/200 [00:00<?, ?B/s]"
            ],
            "application/vnd.jupyter.widget-view+json": {
              "version_major": 2,
              "version_minor": 0,
              "model_id": "341d93fcfd72454288bd10e2b3e8ef96"
            }
          },
          "metadata": {}
        },
        {
          "output_type": "display_data",
          "data": {
            "text/plain": [
              "Downloading (…)olve/main/vocab.json:   0%|          | 0.00/798k [00:00<?, ?B/s]"
            ],
            "application/vnd.jupyter.widget-view+json": {
              "version_major": 2,
              "version_minor": 0,
              "model_id": "87da91bfbcae4e0dbb3b44355f7a9a76"
            }
          },
          "metadata": {}
        },
        {
          "output_type": "display_data",
          "data": {
            "text/plain": [
              "Downloading (…)olve/main/merges.txt:   0%|          | 0.00/456k [00:00<?, ?B/s]"
            ],
            "application/vnd.jupyter.widget-view+json": {
              "version_major": 2,
              "version_minor": 0,
              "model_id": "e336f48c5c3a466baff7440e57728e3c"
            }
          },
          "metadata": {}
        },
        {
          "output_type": "display_data",
          "data": {
            "text/plain": [
              "Downloading (…)cial_tokens_map.json:   0%|          | 0.00/90.0 [00:00<?, ?B/s]"
            ],
            "application/vnd.jupyter.widget-view+json": {
              "version_major": 2,
              "version_minor": 0,
              "model_id": "1f1105696d744bcd97cc321c7c4dbef0"
            }
          },
          "metadata": {}
        }
      ]
    },
    {
      "cell_type": "code",
      "source": [
        "#assign your prompt to a variables\n",
        "sequence = (\"After ending up at the wrong airport and calling Monica to verify their info, Ross and Phoebe race to the right airport. Afraid they are not going to make it in time to catch Rachel \\\n",
        "(who is actually already on the plane), Phoebe calls Rachel, telling her there's something wrong with the plane's 'left phalange'. \\\n",
        "The guy sitting next to Rachel freaks out and alarms the rest of the passengers, making everyone get off. This diversion is perfect for Ross who catches Rachel just before she takes off again \\\n",
        "(also thanks to Pheobe's screaming, which makes Rachel turn around at the gates). Ross confesses his love for Rachel and says he wants to be with her, but it's too much for Rachel to take \\\n",
        "at the moment and all she can say to Ross is 'I'm sorry, I'm sorry. I'm so sorry' and passes through the gates again. Ross doesn't meet the others as Monica's apartment because he is too sad about how he left things with Rachel.\\\n",
        " He goes home and checks his messages, and finds a message from Rachel. She admits repeatedly she loves him too, and by saying it over and over she realizes she wants to get off the plane.\\\n",
        " The message is cut in the middle of an argument between Rachel and a flight attendant. Ross tries to hear the rest of the message, asking himself 'Did she get off the plane?'.\")"
      ],
      "metadata": {
        "id": "zc9EQqeFtypp"
      },
      "execution_count": 5,
      "outputs": []
    },
    {
      "cell_type": "code",
      "source": [
        "#print prompt\n",
        "sequence"
      ],
      "metadata": {
        "colab": {
          "base_uri": "https://localhost:8080/",
          "height": 126
        },
        "id": "1tsLyuprft9V",
        "outputId": "a695afb5-874a-4c0c-db5c-fc183036eb4a"
      },
      "execution_count": 6,
      "outputs": [
        {
          "output_type": "execute_result",
          "data": {
            "text/plain": [
              "\"After ending up at the wrong airport and calling Monica to verify their info, Ross and Phoebe race to the right airport. Afraid they are not going to make it in time to catch Rachel (who is actually already on the plane), Phoebe calls Rachel, telling her there's something wrong with the plane's 'left phalange'. The guy sitting next to Rachel freaks out and alarms the rest of the passengers, making everyone get off. This diversion is perfect for Ross who catches Rachel just before she takes off again (also thanks to Pheobe's screaming, which makes Rachel turn around at the gates). Ross confesses his love for Rachel and says he wants to be with her, but it's too much for Rachel to take at the moment and all she can say to Ross is 'I'm sorry, I'm sorry. I'm so sorry' and passes through the gates again. Ross doesn't meet the others as Monica's apartment because he is too sad about how he left things with Rachel. He goes home and checks his messages, and finds a message from Rachel. She admits repeatedly she loves him too, and by saying it over and over she realizes she wants to get off the plane. The message is cut in the middle of an argument between Rachel and a flight attendant. Ross tries to hear the rest of the message, asking himself 'Did she get off the plane?'.\""
            ],
            "application/vnd.google.colaboratory.intrinsic+json": {
              "type": "string"
            }
          },
          "metadata": {},
          "execution_count": 6
        }
      ]
    },
    {
      "cell_type": "code",
      "source": [],
      "metadata": {
        "id": "3ICRyjuwpP80"
      },
      "execution_count": null,
      "outputs": []
    },
    {
      "cell_type": "markdown",
      "source": [
        "Generate output comparing sampling vs non-sampling"
      ],
      "metadata": {
        "id": "Xi4u_dSHptCU"
      }
    },
    {
      "cell_type": "code",
      "source": [
        "#sampling is true\n",
        "result = generator(sequence, max_length=400, do_sample=True)\n",
        "print(result[0]['generated_text'])"
      ],
      "metadata": {
        "colab": {
          "base_uri": "https://localhost:8080/"
        },
        "id": "N6sEYjekXVsy",
        "outputId": "c9f21cb1-7d9f-43b3-a3d9-4cbd9debadf0"
      },
      "execution_count": 9,
      "outputs": [
        {
          "output_type": "stream",
          "name": "stderr",
          "text": [
            "Setting `pad_token_id` to `eos_token_id`:50256 for open-end generation.\n"
          ]
        },
        {
          "output_type": "stream",
          "name": "stdout",
          "text": [
            "After ending up at the wrong airport and calling Monica to verify their info, Ross and Phoebe race to the right airport. Afraid they are not going to make it in time to catch Rachel (who is actually already on the plane), Phoebe calls Rachel, telling her there's something wrong with the plane's 'left phalange'. The guy sitting next to Rachel freaks out and alarms the rest of the passengers, making everyone get off. This diversion is perfect for Ross who catches Rachel just before she takes off again (also thanks to Pheobe's screaming, which makes Rachel turn around at the gates). Ross confesses his love for Rachel and says he wants to be with her, but it's too much for Rachel to take at the moment and all she can say to Ross is 'I'm sorry, I'm sorry. I'm so sorry' and passes through the gates again. Ross doesn't meet the others as Monica's apartment because he is too sad about how he left things with Rachel. He goes home and checks his messages, and finds a message from Rachel. She admits repeatedly she loves him too, and by saying it over and over she realizes she wants to get off the plane. The message is cut in the middle of an argument between Rachel and a flight attendant. Ross tries to hear the rest of the message, asking himself 'Did she get off the plane?'. Rachel's response to him is 'No, Ross, I told you, I love you and I want to get off the plane. I didn't mean to leave you. I didn't mean to leave you, I love you.' Rachel leaves the next hour before she can explain her exit. Ross apologizes to Monica, admitting his guilt and that he loves Rachel too, but Monica tells him it's too late to change the past and makes him promise never to act on them ever again. He then goes to Rachel's apartment and apologises for not being the person to\n"
          ]
        }
      ]
    },
    {
      "cell_type": "code",
      "source": [
        "#sampling is false\n",
        "result_no_sample = generator(sequence, max_length=400, do_sample=False)\n",
        "print(result_no_sample[0]['generated_text'])"
      ],
      "metadata": {
        "colab": {
          "base_uri": "https://localhost:8080/"
        },
        "id": "llqil34lXVm_",
        "outputId": "3c0f34f7-e146-478b-dc0b-7d28cdc4a6fd"
      },
      "execution_count": 10,
      "outputs": [
        {
          "output_type": "stream",
          "name": "stderr",
          "text": [
            "Setting `pad_token_id` to `eos_token_id`:50256 for open-end generation.\n"
          ]
        },
        {
          "output_type": "stream",
          "name": "stdout",
          "text": [
            "After ending up at the wrong airport and calling Monica to verify their info, Ross and Phoebe race to the right airport. Afraid they are not going to make it in time to catch Rachel (who is actually already on the plane), Phoebe calls Rachel, telling her there's something wrong with the plane's 'left phalange'. The guy sitting next to Rachel freaks out and alarms the rest of the passengers, making everyone get off. This diversion is perfect for Ross who catches Rachel just before she takes off again (also thanks to Pheobe's screaming, which makes Rachel turn around at the gates). Ross confesses his love for Rachel and says he wants to be with her, but it's too much for Rachel to take at the moment and all she can say to Ross is 'I'm sorry, I'm sorry. I'm so sorry' and passes through the gates again. Ross doesn't meet the others as Monica's apartment because he is too sad about how he left things with Rachel. He goes home and checks his messages, and finds a message from Rachel. She admits repeatedly she loves him too, and by saying it over and over she realizes she wants to get off the plane. The message is cut in the middle of an argument between Rachel and a flight attendant. Ross tries to hear the rest of the message, asking himself 'Did she get off the plane?'. Rachel says she did, but Ross is still sad. Rachel says she is going to go to the bathroom and Ross says he will wait for her. Rachel goes to the bathroom and Ross follows her. Rachel comes out of the bathroom and Ross says he is sorry, but Rachel says she is not going to leave him. Ross says he is sorry too, but Rachel says she is not going to leave him. Ross says he is sorry too, but Rachel says she is not going to leave him. Ross says he is sorry too, but Rachel says she is not going to\n"
          ]
        }
      ]
    },
    {
      "cell_type": "code",
      "source": [],
      "metadata": {
        "id": "h6Bw512hrInM"
      },
      "execution_count": null,
      "outputs": []
    },
    {
      "cell_type": "markdown",
      "source": [
        "Generate models comparing Top_k values"
      ],
      "metadata": {
        "id": "7kh6nkY9pzOJ"
      }
    },
    {
      "cell_type": "code",
      "source": [
        "#top k = 50\n",
        "result_topk_50 = generator(sequence, max_length=400, do_sample=True, top_k=50)\n",
        "print(result_topk_50[0]['generated_text'])"
      ],
      "metadata": {
        "colab": {
          "base_uri": "https://localhost:8080/"
        },
        "id": "szdZ4DIkXVkH",
        "outputId": "5983ae13-1af1-446b-83c8-b4a56a4bf08a"
      },
      "execution_count": 14,
      "outputs": [
        {
          "output_type": "stream",
          "name": "stderr",
          "text": [
            "Setting `pad_token_id` to `eos_token_id`:50256 for open-end generation.\n"
          ]
        },
        {
          "output_type": "stream",
          "name": "stdout",
          "text": [
            "After ending up at the wrong airport and calling Monica to verify their info, Ross and Phoebe race to the right airport. Afraid they are not going to make it in time to catch Rachel (who is actually already on the plane), Phoebe calls Rachel, telling her there's something wrong with the plane's 'left phalange'. The guy sitting next to Rachel freaks out and alarms the rest of the passengers, making everyone get off. This diversion is perfect for Ross who catches Rachel just before she takes off again (also thanks to Pheobe's screaming, which makes Rachel turn around at the gates). Ross confesses his love for Rachel and says he wants to be with her, but it's too much for Rachel to take at the moment and all she can say to Ross is 'I'm sorry, I'm sorry. I'm so sorry' and passes through the gates again. Ross doesn't meet the others as Monica's apartment because he is too sad about how he left things with Rachel. He goes home and checks his messages, and finds a message from Rachel. She admits repeatedly she loves him too, and by saying it over and over she realizes she wants to get off the plane. The message is cut in the middle of an argument between Rachel and a flight attendant. Ross tries to hear the rest of the message, asking himself 'Did she get off the plane?'. The voice inside Ross's head says 'Yes' and Ross thinks about how it will feel to have Rachel come home, but he gets off the plane. Ross feels horrible when he leaves the airport to Rachel's apartment and he doesn't get to say good-bye to Phoebe, who is there because she needs to get him some drinks.\n",
            "\n",
            "Ross finds a phone number on his flight manifest and calls the number on the passenger list. Rachel says she has no idea how he can see her, but he does, and he gives her his phone number. That\n"
          ]
        }
      ]
    },
    {
      "cell_type": "code",
      "source": [
        "#top k = 20\n",
        "result_topk_20 = generator(sequence, max_length=400, do_sample=True, top_k=20)\n",
        "print(result_topk_20[0]['generated_text'])"
      ],
      "metadata": {
        "colab": {
          "base_uri": "https://localhost:8080/"
        },
        "id": "d_U5SAjBXVeq",
        "outputId": "073e9e8b-5826-4de9-d7f0-7ebe3f899fd3"
      },
      "execution_count": 17,
      "outputs": [
        {
          "output_type": "stream",
          "name": "stderr",
          "text": [
            "Setting `pad_token_id` to `eos_token_id`:50256 for open-end generation.\n"
          ]
        },
        {
          "output_type": "stream",
          "name": "stdout",
          "text": [
            "After ending up at the wrong airport and calling Monica to verify their info, Ross and Phoebe race to the right airport. Afraid they are not going to make it in time to catch Rachel (who is actually already on the plane), Phoebe calls Rachel, telling her there's something wrong with the plane's 'left phalange'. The guy sitting next to Rachel freaks out and alarms the rest of the passengers, making everyone get off. This diversion is perfect for Ross who catches Rachel just before she takes off again (also thanks to Pheobe's screaming, which makes Rachel turn around at the gates). Ross confesses his love for Rachel and says he wants to be with her, but it's too much for Rachel to take at the moment and all she can say to Ross is 'I'm sorry, I'm sorry. I'm so sorry' and passes through the gates again. Ross doesn't meet the others as Monica's apartment because he is too sad about how he left things with Rachel. He goes home and checks his messages, and finds a message from Rachel. She admits repeatedly she loves him too, and by saying it over and over she realizes she wants to get off the plane. The message is cut in the middle of an argument between Rachel and a flight attendant. Ross tries to hear the rest of the message, asking himself 'Did she get off the plane?'. He hears a loud 'clunk', and turns back to see Rachel standing next to her suitcase, a suitcase that looks exactly like Monica's, and says 'Oh my God, she's gone'. Rachel is devastated, and Ross says, 'I'm sorry, I'm sorry. I can't do this. I'm sorry.' Rachel is crying, and Ross says, 'I'm sorry too, I was a jerk', and goes to Rachel. Rachel is crying as well, and says, 'I'm so stupid.' Ross tries to comfort her and tells her to\n"
          ]
        }
      ]
    },
    {
      "cell_type": "code",
      "source": [
        "#top k = 70\n",
        "result_topk_70 = generator(sequence, max_length=400, do_sample=True, top_k=70)\n",
        "print(result_topk_70[0]['generated_text'])"
      ],
      "metadata": {
        "colab": {
          "base_uri": "https://localhost:8080/"
        },
        "id": "qMyXn7CmJBhG",
        "outputId": "c7c8eb85-b384-4dc5-9529-1a4fa6c4189c"
      },
      "execution_count": 21,
      "outputs": [
        {
          "output_type": "stream",
          "name": "stderr",
          "text": [
            "Setting `pad_token_id` to `eos_token_id`:50256 for open-end generation.\n"
          ]
        },
        {
          "output_type": "stream",
          "name": "stdout",
          "text": [
            "After ending up at the wrong airport and calling Monica to verify their info, Ross and Phoebe race to the right airport. Afraid they are not going to make it in time to catch Rachel (who is actually already on the plane), Phoebe calls Rachel, telling her there's something wrong with the plane's 'left phalange'. The guy sitting next to Rachel freaks out and alarms the rest of the passengers, making everyone get off. This diversion is perfect for Ross who catches Rachel just before she takes off again (also thanks to Pheobe's screaming, which makes Rachel turn around at the gates). Ross confesses his love for Rachel and says he wants to be with her, but it's too much for Rachel to take at the moment and all she can say to Ross is 'I'm sorry, I'm sorry. I'm so sorry' and passes through the gates again. Ross doesn't meet the others as Monica's apartment because he is too sad about how he left things with Rachel. He goes home and checks his messages, and finds a message from Rachel. She admits repeatedly she loves him too, and by saying it over and over she realizes she wants to get off the plane. The message is cut in the middle of an argument between Rachel and a flight attendant. Ross tries to hear the rest of the message, asking himself 'Did she get off the plane?'. However, Monica has changed her mind and has left the plane to the rest of them. Monica says 'I know what I want', but Rachel does not accept it and screams that she hates him. Ross says he is not ready for all of the ways he thinks Rachel feels and that he is scared he will lose her forever. Monica leaves the plane and Ross, Phoebe and Monica exit the airport before Rachel does. She screams at them, telling them they are all in danger of losing each other in love. Ross says the only way to stop her from losing Rachel\n"
          ]
        }
      ]
    },
    {
      "cell_type": "code",
      "source": [],
      "metadata": {
        "id": "TqlzXFLhH8QP"
      },
      "execution_count": null,
      "outputs": []
    },
    {
      "cell_type": "markdown",
      "source": [
        "Generate models comparing Temperature values"
      ],
      "metadata": {
        "id": "Zwf0xK0cqyll"
      }
    },
    {
      "cell_type": "code",
      "source": [
        "#temperature = 2.5\n",
        "result_temp_25 = generator(sequence, max_length=400, do_sample=True, temperature=2.5)\n",
        "print(result_temp_25[0]['generated_text'])"
      ],
      "metadata": {
        "colab": {
          "base_uri": "https://localhost:8080/"
        },
        "id": "0bcurT3542B1",
        "outputId": "61eba0b5-7979-4ac6-ffb4-879cec00df8d"
      },
      "execution_count": 17,
      "outputs": [
        {
          "output_type": "stream",
          "name": "stderr",
          "text": [
            "Setting `pad_token_id` to `eos_token_id`:50256 for open-end generation.\n"
          ]
        },
        {
          "output_type": "stream",
          "name": "stdout",
          "text": [
            "After ending up at the wrong airport and calling Monica to verify their info, Ross and Phoebe race to the right airport. Afraid they are not going to make it in time to catch Rachel (who is actually already on the plane), Phoebe calls Rachel, telling her there's something wrong with the plane's 'left phalange'. The guy sitting next to Rachel freaks out and alarms the rest of the passengers, making everyone get off. This diversion is perfect for Ross who catches Rachel just before she takes off again (also thanks to Pheobe's screaming, which makes Rachel turn around at the gates). Ross confesses his love for Rachel and says he wants to be with her, but it's too much for Rachel to take at the moment and all she can say to Ross is 'I'm sorry, I'm sorry. I'm so sorry' and passes through the gates again. Ross doesn't meet the others as Monica's apartment because he is too sad about how he left things with Rachel. He goes home and checks his messages, and finds a message from Rachel. She admits repeatedly she loves him too, and by saying it over and over she realizes she wants to get off the plane. The message is cut in the middle of an argument between Rachel and a flight attendant. Ross tries to hear the rest of the message, asking himself 'Did she get off the plane?'. He decides she said 'Sorry!' just before getting off of again - they just can use another little distraction right now...\n",
            "\n",
            "Ross tells Amy who was holding their drinks with both of then in mid conversation that Rachel, their 'curee', did finally get off but only went so far because Monica didn't accept everything they (in fact, her sister Brooke in part, was completely beside himself saying - the sister) were telling for love as it seemed he couldn` have had such as love for it wasn?. 'Yeah you? What... Ross!' But Amy\n"
          ]
        }
      ]
    },
    {
      "cell_type": "code",
      "source": [
        "#temperature = 0.5\n",
        "result_temp_05 = generator(sequence, max_length=400, do_sample=True, temperature=0.5)\n",
        "print(result_temp_05[0]['generated_text'])"
      ],
      "metadata": {
        "colab": {
          "base_uri": "https://localhost:8080/"
        },
        "id": "rNMBRzM4y5zj",
        "outputId": "708103a6-ff61-4ff2-90d4-1ea7272d6440"
      },
      "execution_count": 18,
      "outputs": [
        {
          "output_type": "stream",
          "name": "stderr",
          "text": [
            "Setting `pad_token_id` to `eos_token_id`:50256 for open-end generation.\n"
          ]
        },
        {
          "output_type": "stream",
          "name": "stdout",
          "text": [
            "After ending up at the wrong airport and calling Monica to verify their info, Ross and Phoebe race to the right airport. Afraid they are not going to make it in time to catch Rachel (who is actually already on the plane), Phoebe calls Rachel, telling her there's something wrong with the plane's 'left phalange'. The guy sitting next to Rachel freaks out and alarms the rest of the passengers, making everyone get off. This diversion is perfect for Ross who catches Rachel just before she takes off again (also thanks to Pheobe's screaming, which makes Rachel turn around at the gates). Ross confesses his love for Rachel and says he wants to be with her, but it's too much for Rachel to take at the moment and all she can say to Ross is 'I'm sorry, I'm sorry. I'm so sorry' and passes through the gates again. Ross doesn't meet the others as Monica's apartment because he is too sad about how he left things with Rachel. He goes home and checks his messages, and finds a message from Rachel. She admits repeatedly she loves him too, and by saying it over and over she realizes she wants to get off the plane. The message is cut in the middle of an argument between Rachel and a flight attendant. Ross tries to hear the rest of the message, asking himself 'Did she get off the plane?'. Rachel tells him she did, but then says she is scared she won't be able to go through with it. Ross tells her that he loves her and that he will help her get off the plane. Rachel is so happy she can barely speak, and Ross tells her he will be back.\n",
            "\n",
            "Ross and Monica arrive at the airport, and Ross tells Monica he is going to get Rachel to the airport. Monica tells him he is a jerk and that he needs to stop being so selfish. Ross tells her that he will help her get off the plane, and Monica\n"
          ]
        }
      ]
    },
    {
      "cell_type": "code",
      "source": [
        "#temperature = 5.0\n",
        "result_temp_5 = generator(sequence, max_length=400, do_sample=True, temperature=5.0)\n",
        "print(result_temp_5[0]['generated_text'])"
      ],
      "metadata": {
        "id": "e_xVxl_EFEhi",
        "colab": {
          "base_uri": "https://localhost:8080/"
        },
        "outputId": "c46f2298-cad8-493b-b20d-5de5c0d68867"
      },
      "execution_count": 19,
      "outputs": [
        {
          "output_type": "stream",
          "name": "stderr",
          "text": [
            "Setting `pad_token_id` to `eos_token_id`:50256 for open-end generation.\n"
          ]
        },
        {
          "output_type": "stream",
          "name": "stdout",
          "text": [
            "After ending up at the wrong airport and calling Monica to verify their info, Ross and Phoebe race to the right airport. Afraid they are not going to make it in time to catch Rachel (who is actually already on the plane), Phoebe calls Rachel, telling her there's something wrong with the plane's 'left phalange'. The guy sitting next to Rachel freaks out and alarms the rest of the passengers, making everyone get off. This diversion is perfect for Ross who catches Rachel just before she takes off again (also thanks to Pheobe's screaming, which makes Rachel turn around at the gates). Ross confesses his love for Rachel and says he wants to be with her, but it's too much for Rachel to take at the moment and all she can say to Ross is 'I'm sorry, I'm sorry. I'm so sorry' and passes through the gates again. Ross doesn't meet the others as Monica's apartment because he is too sad about how he left things with Rachel. He goes home and checks his messages, and finds a message from Rachel. She admits repeatedly she loves him too, and by saying it over and over she realizes she wants to get off the plane. The message is cut in the middle of an argument between Rachel and a flight attendant. Ross tries to hear the rest of the message, asking himself 'Did she get off the plane?'. He walks into someone's yard after hanging his suitcase in place after realizing why Phnebe was called a maniac in her call earlier and thinking her mother could've gone home right as Chandler put into call the night of leaving and his voice as smooth sounding in its ability be more melant or as having better volume, though is that something we expect at our lives?! (Note – Ross really shouldn'd'r keep such things) In the parking lot you're hearing footsteps behind it was an accident..\n"
          ]
        }
      ]
    },
    {
      "cell_type": "code",
      "source": [],
      "metadata": {
        "id": "JoJc2Eo-56XP"
      },
      "execution_count": 99,
      "outputs": []
    },
    {
      "cell_type": "code",
      "source": [],
      "metadata": {
        "id": "LH4ehv02uzfZ"
      },
      "execution_count": null,
      "outputs": []
    }
  ]
}